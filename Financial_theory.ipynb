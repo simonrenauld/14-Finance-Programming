{
 "cells": [
  {
   "cell_type": "markdown",
   "id": "86771e00-0ff1-4b26-a8aa-3eeb322dfe9b",
   "metadata": {},
   "source": [
    "### How can all this be translated into Python programming? First, real numbers are rep resented as floating point numbers or float objects in Python:"
   ]
  },
  {
   "cell_type": "markdown",
   "id": "443f998b-88c2-4f07-a6c0-eca8230a3208",
   "metadata": {
    "tags": []
   },
   "source": [
    "### Real numbers"
   ]
  },
  {
   "cell_type": "code",
   "execution_count": 22,
   "id": "209bf081-9767-4e08-b1b6-82748a098433",
   "metadata": {
    "tags": []
   },
   "outputs": [
    {
     "data": {
      "text/plain": [
       "5.25"
      ]
     },
     "execution_count": 22,
     "metadata": {},
     "output_type": "execute_result"
    }
   ],
   "source": [
    "vu = 1.5  \n",
    "vd = 3.75  \n",
    "type(vu)  \n",
    "vu + vd  "
   ]
  },
  {
   "cell_type": "markdown",
   "id": "a7b0a28d-4cff-4980-8ee0-fdb05d737950",
   "metadata": {},
   "source": [
    "## ndarray"
   ]
  },
  {
   "cell_type": "code",
   "execution_count": 27,
   "id": "3c72b340-2fd1-475b-85b4-c6eac616b4e8",
   "metadata": {
    "tags": []
   },
   "outputs": [],
   "source": [
    "### Collections of objects of the same type in programming arrays. In Python, the package NumPy provides support for such data structures. "
   ]
  },
  {
   "cell_type": "code",
   "execution_count": 39,
   "id": "b7304a59-96e0-42a3-9657-74d6b7745d01",
   "metadata": {
    "tags": []
   },
   "outputs": [
    {
     "data": {
      "text/plain": [
       "dtype('float64')"
      ]
     },
     "execution_count": 39,
     "metadata": {},
     "output_type": "execute_result"
    }
   ],
   "source": [
    "import numpy as np\n",
    "v = np.array((vu, vd))\n",
    "v\n"
   ]
  },
  {
   "cell_type": "code",
   "execution_count": 41,
   "id": "a11b879a-bf95-4d3e-822e-e631245dd714",
   "metadata": {
    "tags": []
   },
   "outputs": [
    {
     "data": {
      "text/plain": [
       "dtype('float64')"
      ]
     },
     "execution_count": 41,
     "metadata": {},
     "output_type": "execute_result"
    }
   ],
   "source": [
    "v.dtype "
   ]
  },
  {
   "cell_type": "code",
   "execution_count": null,
   "id": "c95b815a-4528-4451-ae97-78a2b3569dbf",
   "metadata": {},
   "outputs": [],
   "source": []
  }
 ],
 "metadata": {
  "kernelspec": {
   "display_name": "Python 3 (ipykernel)",
   "language": "python",
   "name": "python3"
  },
  "language_info": {
   "codemirror_mode": {
    "name": "ipython",
    "version": 3
   },
   "file_extension": ".py",
   "mimetype": "text/x-python",
   "name": "python",
   "nbconvert_exporter": "python",
   "pygments_lexer": "ipython3",
   "version": "3.11.7"
  }
 },
 "nbformat": 4,
 "nbformat_minor": 5
}
